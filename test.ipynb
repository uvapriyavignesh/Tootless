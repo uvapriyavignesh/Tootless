{
 "cells": [
  {
   "cell_type": "code",
   "execution_count": 1,
   "metadata": {},
   "outputs": [],
   "source": [
    "import RnnNetworkModel\n",
    "import torch\n",
    "import torch.nn as nn\n",
    "import torch.optim as optim\n",
    "import common_resources as cr"
   ]
  },
  {
   "cell_type": "code",
   "execution_count": 2,
   "metadata": {},
   "outputs": [],
   "source": [
    "data=cr.load_data(\"/home/uvapriyavignesh/toothless/data/sampldata - Sheet1.csv\")"
   ]
  },
  {
   "cell_type": "code",
   "execution_count": 3,
   "metadata": {},
   "outputs": [
    {
     "data": {
      "text/plain": [
       "tensor(3)"
      ]
     },
     "execution_count": 3,
     "metadata": {},
     "output_type": "execute_result"
    }
   ],
   "source": [
    "data=cr.suffeling_date(data)\n",
    "x_train,y_train=cr.refactor_input_out_put_parameter(data)\n",
    "y_train[0]\n"
   ]
  },
  {
   "cell_type": "code",
   "execution_count": 4,
   "metadata": {},
   "outputs": [],
   "source": [
    "x_train, x_test, y_train, y_test=cr.split_train_test_dataset(x_train=x_train,y_train=y_train,trainig_rate=0.2)"
   ]
  },
  {
   "cell_type": "code",
   "execution_count": 5,
   "metadata": {},
   "outputs": [],
   "source": [
    "batch=cr.train_data_set_split_batch(x_train=x_train,y_train=y_train,batch_size=64)"
   ]
  },
  {
   "cell_type": "code",
   "execution_count": 6,
   "metadata": {},
   "outputs": [],
   "source": [
    "input_size =509\n",
    "hidden_size = 50\n",
    "output_size = 6\n",
    "dropout_prob = 0.2"
   ]
  },
  {
   "cell_type": "code",
   "execution_count": 7,
   "metadata": {},
   "outputs": [],
   "source": [
    "model=RnnNetworkModel.RnnNetworkModel(input_size=input_size,hidden_size=hidden_size,output_size=output_size,dropout_prob=dropout_prob)"
   ]
  },
  {
   "cell_type": "code",
   "execution_count": 13,
   "metadata": {},
   "outputs": [],
   "source": [
    "epoc=10\n",
    "criterion = nn.CrossEntropyLoss()\n",
    "optimizer = optim.rmsprop(model.parameters(), lr=0.0001)"
   ]
  },
  {
   "cell_type": "code",
   "execution_count": 15,
   "metadata": {},
   "outputs": [
    {
     "name": "stdout",
     "output_type": "stream",
     "text": [
      "Epoch [1/100], Loss: 1.1076\n",
      "Epoch [2/100], Loss: 1.0735\n",
      "Epoch [3/100], Loss: 1.0868\n",
      "Epoch [4/100], Loss: 1.0650\n",
      "Epoch [5/100], Loss: 1.0864\n",
      "Epoch [6/100], Loss: 1.0778\n",
      "Epoch [7/100], Loss: 1.0864\n",
      "Epoch [8/100], Loss: 1.0821\n",
      "Epoch [9/100], Loss: 1.0778\n",
      "Epoch [10/100], Loss: 1.0607\n",
      "Epoch [11/100], Loss: 1.1248\n",
      "Epoch [12/100], Loss: 1.0868\n",
      "Epoch [13/100], Loss: 1.0667\n",
      "Epoch [14/100], Loss: 1.0820\n",
      "Epoch [15/100], Loss: 1.0921\n",
      "Epoch [16/100], Loss: 1.1163\n",
      "Epoch [17/100], Loss: 1.1035\n",
      "Epoch [18/100], Loss: 1.0949\n",
      "Epoch [19/100], Loss: 1.0970\n",
      "Epoch [20/100], Loss: 1.0907\n",
      "Epoch [21/100], Loss: 1.0907\n",
      "Epoch [22/100], Loss: 1.0736\n",
      "Epoch [23/100], Loss: 1.0608\n",
      "Epoch [24/100], Loss: 1.1419\n",
      "Epoch [25/100], Loss: 1.0780\n",
      "Epoch [26/100], Loss: 1.0650\n",
      "Epoch [27/100], Loss: 1.0735\n",
      "Epoch [28/100], Loss: 1.1035\n",
      "Epoch [29/100], Loss: 1.1035\n",
      "Epoch [30/100], Loss: 1.0949\n",
      "Epoch [31/100], Loss: 1.0778\n",
      "Epoch [32/100], Loss: 1.0821\n",
      "Epoch [33/100], Loss: 1.0821\n",
      "Epoch [34/100], Loss: 1.0949\n",
      "Epoch [35/100], Loss: 1.0865\n",
      "Epoch [36/100], Loss: 1.0910\n",
      "Epoch [37/100], Loss: 1.0896\n",
      "Epoch [38/100], Loss: 1.0779\n",
      "Epoch [39/100], Loss: 1.0821\n",
      "Epoch [40/100], Loss: 1.0821\n",
      "Epoch [41/100], Loss: 1.0780\n",
      "Epoch [42/100], Loss: 1.0736\n",
      "Epoch [43/100], Loss: 1.0906\n",
      "Epoch [44/100], Loss: 1.0821\n",
      "Epoch [45/100], Loss: 1.0735\n",
      "Epoch [46/100], Loss: 1.1251\n",
      "Epoch [47/100], Loss: 1.0883\n",
      "Epoch [48/100], Loss: 1.1065\n",
      "Epoch [49/100], Loss: 1.0866\n",
      "Epoch [50/100], Loss: 1.1257\n",
      "Epoch [51/100], Loss: 1.0896\n",
      "Epoch [52/100], Loss: 1.1076\n",
      "Epoch [53/100], Loss: 1.1035\n",
      "Epoch [54/100], Loss: 1.0992\n",
      "Epoch [55/100], Loss: 1.0907\n",
      "Epoch [56/100], Loss: 1.0906\n",
      "Epoch [57/100], Loss: 1.1035\n",
      "Epoch [58/100], Loss: 1.0780\n",
      "Epoch [59/100], Loss: 1.1120\n",
      "Epoch [60/100], Loss: 1.0778\n",
      "Epoch [61/100], Loss: 1.0821\n",
      "Epoch [62/100], Loss: 1.0778\n",
      "Epoch [63/100], Loss: 1.1120\n",
      "Epoch [64/100], Loss: 1.0868\n",
      "Epoch [65/100], Loss: 1.0949\n",
      "Epoch [66/100], Loss: 1.0736\n",
      "Epoch [67/100], Loss: 1.1077\n",
      "Epoch [68/100], Loss: 1.1077\n",
      "Epoch [69/100], Loss: 1.0821\n",
      "Epoch [70/100], Loss: 1.0821\n",
      "Epoch [71/100], Loss: 1.0822\n",
      "Epoch [72/100], Loss: 1.0865\n",
      "Epoch [73/100], Loss: 1.0821\n",
      "Epoch [74/100], Loss: 1.1037\n",
      "Epoch [75/100], Loss: 1.0906\n",
      "Epoch [76/100], Loss: 1.0823\n",
      "Epoch [77/100], Loss: 1.0949\n",
      "Epoch [78/100], Loss: 1.0948\n",
      "Epoch [79/100], Loss: 1.0780\n",
      "Epoch [80/100], Loss: 1.0743\n",
      "Epoch [81/100], Loss: 1.0735\n",
      "Epoch [82/100], Loss: 1.1035\n",
      "Epoch [83/100], Loss: 1.0735\n",
      "Epoch [84/100], Loss: 1.0821\n",
      "Epoch [85/100], Loss: 1.1121\n",
      "Epoch [86/100], Loss: 1.0864\n",
      "Epoch [87/100], Loss: 1.0735\n",
      "Epoch [88/100], Loss: 1.0908\n",
      "Epoch [89/100], Loss: 1.1076\n",
      "Epoch [90/100], Loss: 1.0815\n",
      "Epoch [91/100], Loss: 1.0905\n",
      "Epoch [92/100], Loss: 1.1078\n",
      "Epoch [93/100], Loss: 1.1078\n",
      "Epoch [94/100], Loss: 1.0725\n",
      "Epoch [95/100], Loss: 1.0821\n",
      "Epoch [96/100], Loss: 1.0879\n",
      "Epoch [97/100], Loss: 1.0992\n",
      "Epoch [98/100], Loss: 1.0607\n",
      "Epoch [99/100], Loss: 1.1205\n",
      "Epoch [100/100], Loss: 1.0821\n"
     ]
    }
   ],
   "source": [
    "epoc=100\n",
    "for i in range(epoc):\n",
    "    model.train()\n",
    "    for x_train,y_train in batch:\n",
    "        optimizer.zero_grad()\n",
    "        outputs = model(x_train.unsqueeze(1)) \n",
    "        loss = criterion(outputs, y_train)\n",
    "        loss.backward()\n",
    "        optimizer.step()    \n",
    "    print(f'Epoch [{i+1}/{epoc}], Loss: {loss.item():.4f}')\n",
    "        \n",
    "    "
   ]
  }
 ],
 "metadata": {
  "kernelspec": {
   "display_name": ".venv",
   "language": "python",
   "name": "python3"
  },
  "language_info": {
   "codemirror_mode": {
    "name": "ipython",
    "version": 3
   },
   "file_extension": ".py",
   "mimetype": "text/x-python",
   "name": "python",
   "nbconvert_exporter": "python",
   "pygments_lexer": "ipython3",
   "version": "3.8.10"
  }
 },
 "nbformat": 4,
 "nbformat_minor": 2
}
